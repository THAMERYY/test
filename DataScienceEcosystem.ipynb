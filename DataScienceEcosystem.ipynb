{
 "cells": [
  {
   "cell_type": "markdown",
   "id": "636995e4-3268-4a65-8a53-ba8fe31f0ef8",
   "metadata": {},
   "source": [
    "# Data Science Tools and Ecosystem"
   ]
  },
  {
   "cell_type": "markdown",
   "id": "465b7b02-c7de-4544-a83c-8abd1088bd91",
   "metadata": {},
   "source": [
    "In this notebook, Data Science Tools and Ecosystem are summarized."
   ]
  },
  {
   "cell_type": "markdown",
   "id": "5c1be4bc-d71b-4a30-9073-e3b46fb21a1a",
   "metadata": {},
   "source": [
    "Some of the popular languages that Data Scientists use are:\n",
    "1. Python\n",
    "2. R\n",
    "3. Java\n"
   ]
  },
  {
   "cell_type": "markdown",
   "id": "f44f2e7f-f75b-4ded-a828-b93ab5565d42",
   "metadata": {
    "tags": []
   },
   "source": [
    "Some of the commonly used libraries used by Data Scientists include:\n",
    "1. NumPy\n",
    "2. Pandas\n",
    "3. Scikit-Learn"
   ]
  },
  {
   "cell_type": "markdown",
   "id": "5f040032-3b6b-4826-a273-f332be6a5234",
   "metadata": {},
   "source": [
    "| Tool             | Description                                  |\n",
    "|------------------|----------------------------------------------|\n",
    "| Jupyter Notebook | An open-source web application to create and share documents that contain live code, equations, visualizations, and narrative text. |\n",
    "| RStudio          | An integrated development environment for R. |\n",
    "| TensorFlow       | An end-to-end open-source platform for machine learning. |\n",
    "| Apache Spark     | A unified analytics engine for large-scale data processing. |\n",
    "| SAS              | A software suite developed for advanced analytics, multivariate analysis, business intelligence, and data management. |\n"
   ]
  },
  {
   "cell_type": "markdown",
   "id": "c4061397-00e2-47fb-91de-4e7996bb085b",
   "metadata": {},
   "source": [
    "### Below are a few examples of evaluating arithmetic expressions in Python"
   ]
  },
  {
   "cell_type": "markdown",
   "id": "70a6cfbb-d9b0-4649-b44b-33961de20c68",
   "metadata": {},
   "source": [
    "## Arithmetic Expression Examples\n",
    "\n",
    "Arithmetic expressions are used to perform mathematical operations. Here are some common examples:\n",
    "\n",
    "1. **Addition**: The sum of two numbers is represented as \\( a + b \\). For example, \\( 3 + 2 = 5 \\).\n",
    "\n",
    "2. **Subtraction**: The difference between two numbers is represented as \\( a - b \\). For example, \\( 5 - 2 = 3 \\).\n",
    "\n",
    "3. **Multiplication**: The product of two numbers is represented as \\( a \\times b \\) or \\( a \\cdot b \\). For example, \\( 3 \\times 2 = 6 \\).\n",
    "\n",
    "4. **Division**: The quotient of two numbers is represented as \\( \\frac{a}{b} \\). For example, \\( \\frac{6}{2} = 3 \\).\n",
    "\n",
    "5. **Exponentiation**: A number raised to the power of another number is represented as \\( a^b \\). For example, \\( 2^3 = 8 \\).\n"
   ]
  },
  {
   "cell_type": "markdown",
   "id": "d76317f0-1ac5-4afb-871d-57b4ffa66bb7",
   "metadata": {},
   "source": [
    "This will convert 200 minutes to hours by diving by 60"
   ]
  },
  {
   "cell_type": "code",
   "execution_count": 5,
   "id": "524c7b08-441a-4d79-b250-817812b1f8d5",
   "metadata": {
    "tags": []
   },
   "outputs": [
    {
     "name": "stdout",
     "output_type": "stream",
     "text": [
      "3\n"
     ]
    }
   ],
   "source": [
    "min=200\n",
    "hours=min//60\n",
    "print(hours)"
   ]
  },
  {
   "cell_type": "markdown",
   "id": "13f8df65-f546-4d45-a3ee-33666b1361c9",
   "metadata": {
    "tags": []
   },
   "source": [
    "#### Objectives\n",
    "\n",
    "- Create a Jupyter Notebook.\n",
    "- Insert code and markdown cells.\n",
    "- List popular languages for Data Science List popular languages for Data Science\n"
   ]
  },
  {
   "cell_type": "markdown",
   "id": "44da1bd3-c648-40f3-92f4-f7c04752b0f1",
   "metadata": {},
   "source": [
    "## Author\n",
    "THAMER MUBARAK ALAJMI"
   ]
  },
  {
   "cell_type": "code",
   "execution_count": null,
   "id": "aec075a5-b74a-4914-9e00-9f96ee42241b",
   "metadata": {},
   "outputs": [],
   "source": []
  }
 ],
 "metadata": {
  "kernelspec": {
   "display_name": "Python",
   "language": "python",
   "name": "conda-env-python-py"
  },
  "language_info": {
   "codemirror_mode": {
    "name": "ipython",
    "version": 3
   },
   "file_extension": ".py",
   "mimetype": "text/x-python",
   "name": "python",
   "nbconvert_exporter": "python",
   "pygments_lexer": "ipython3",
   "version": "3.7.12"
  }
 },
 "nbformat": 4,
 "nbformat_minor": 5
}
